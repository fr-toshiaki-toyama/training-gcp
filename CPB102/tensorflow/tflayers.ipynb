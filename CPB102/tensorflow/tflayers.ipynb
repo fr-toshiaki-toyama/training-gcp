{
 "cells": [
  {
   "cell_type": "markdown",
   "metadata": {},
   "source": [
    "# Lab: tf.layers\n",
    "\n",
    "`tf.layers` を使うと行列演算や Variable の存在を隠蔽しつつ、柔軟にニューラルネットを記述することができます。\n",
    "TensorFlow v1.0 で contrib から外れて、変更が加わりにくい安定したモジュールになりました。\n",
    "楽さと柔軟さのバランスも取れており、おすすめの書き方です。"
   ]
  },
  {
   "cell_type": "code",
   "execution_count": 1,
   "metadata": {
    "collapsed": false
   },
   "outputs": [
    {
     "name": "stdout",
     "output_type": "stream",
     "text": [
      "1.1.0-rc0\n"
     ]
    }
   ],
   "source": [
    "import numpy as np\n",
    "import tensorflow as tf\n",
    "from tensorflow.examples.tutorials.mnist import input_data\n",
    "\n",
    "print(tf.__version__)"
   ]
  },
  {
   "cell_type": "code",
   "execution_count": 2,
   "metadata": {
    "collapsed": false
   },
   "outputs": [
    {
     "name": "stdout",
     "output_type": "stream",
     "text": [
      "Extracting MNIST_data/train-images-idx3-ubyte.gz\n",
      "Extracting MNIST_data/train-labels-idx1-ubyte.gz\n",
      "Extracting MNIST_data/t10k-images-idx3-ubyte.gz\n",
      "Extracting MNIST_data/t10k-labels-idx1-ubyte.gz\n"
     ]
    }
   ],
   "source": [
    "mnist = input_data.read_data_sets(\"MNIST_data/\", one_hot=True)"
   ]
  },
  {
   "cell_type": "code",
   "execution_count": 3,
   "metadata": {
    "collapsed": true
   },
   "outputs": [],
   "source": [
    "x_ph = tf.placeholder(tf.float32, [None, 784])\n",
    "y_ph = tf.placeholder(tf.float32, [None, 10])"
   ]
  },
  {
   "cell_type": "code",
   "execution_count": 4,
   "metadata": {
    "collapsed": true
   },
   "outputs": [],
   "source": [
    "hidden = tf.layers.dense(x_ph, 20)\n",
    "logits = tf.layers.dense(hidden, 10)\n",
    "y = tf.nn.softmax(logits)"
   ]
  },
  {
   "cell_type": "code",
   "execution_count": 5,
   "metadata": {
    "collapsed": true
   },
   "outputs": [],
   "source": [
    "cross_entropy = -tf.reduce_mean(y_ph * tf.log(y))"
   ]
  },
  {
   "cell_type": "code",
   "execution_count": 20,
   "metadata": {
    "collapsed": true
   },
   "outputs": [],
   "source": [
    "correct_prediction = tf.equal(tf.argmax(logits, 1), tf.argmax(y_ph, 1))\n",
    "accuracy = tf.reduce_mean(tf.cast(correct_prediction, tf.float32))"
   ]
  },
  {
   "cell_type": "code",
   "execution_count": 6,
   "metadata": {
    "collapsed": false
   },
   "outputs": [],
   "source": [
    "train_op = tf.train.GradientDescentOptimizer(1e-2).minimize(cross_entropy)"
   ]
  },
  {
   "cell_type": "code",
   "execution_count": 10,
   "metadata": {
    "collapsed": true
   },
   "outputs": [],
   "source": [
    "init_op = tf.global_variables_initializer()"
   ]
  },
  {
   "cell_type": "code",
   "execution_count": null,
   "metadata": {
    "collapsed": false
   },
   "outputs": [
    {
     "name": "stdout",
     "output_type": "stream",
     "text": [
      "INFO:tensorflow:Iteration: 0 Training Loss: 0.239390552044 Test Loss: 0.235659211874\n",
      "INFO:tensorflow:Iteration: 100 Training Loss: 0.225897833705 Test Loss: 0.220970958471\n",
      "INFO:tensorflow:Iteration: 200 Training Loss: 0.213400155306 Test Loss: 0.209467500448\n",
      "INFO:tensorflow:Iteration: 300 Training Loss: 0.198523804545 Test Loss: 0.199259489775\n",
      "INFO:tensorflow:Iteration: 400 Training Loss: 0.187971875072 Test Loss: 0.190181449056\n",
      "INFO:tensorflow:Iteration: 500 Training Loss: 0.182858362794 Test Loss: 0.18185031414\n",
      "INFO:tensorflow:Iteration: 600 Training Loss: 0.17233709991 Test Loss: 0.174198314548\n",
      "INFO:tensorflow:Iteration: 700 Training Loss: 0.171050727367 Test Loss: 0.167101293802\n",
      "INFO:tensorflow:Iteration: 800 Training Loss: 0.160497516394 Test Loss: 0.160449787974\n",
      "INFO:tensorflow:Iteration: 900 Training Loss: 0.162490025163 Test Loss: 0.154301717877\n",
      "INFO:tensorflow:Iteration: 1000 Training Loss: 0.152186900377 Test Loss: 0.148547589779\n",
      "INFO:tensorflow:Iteration: 1100 Training Loss: 0.136782884598 Test Loss: 0.143178462982\n"
     ]
    }
   ],
   "source": [
    "with tf.Session() as sess:\n",
    "    sess.run(init_op)\n",
    "    for i in range(3001):\n",
    "        x_train, y_train = mnist.train.next_batch(100)\n",
    "        sess.run(train_op, feed_dict={x_ph: x_train, y_ph: y_train})\n",
    "        if i % 100 == 0:\n",
    "            train_loss = sess.run(cross_entropy, feed_dict={x_ph: x_train, y_ph: y_train})\n",
    "            test_loss = sess.run(cross_entropy, feed_dict={x_ph: mnist.test.images, y_ph: mnist.test.labels})\n",
    "            tf.logging.info(\"Iteration: {0} Training Loss: {1} Test Loss: {2}\".format(i, train_loss, test_loss))\n",
    "    test_accuracy = sess.run(accuracy, feed_dict={x_ph: mnist.test.images, y_ph: mnist.test.labels})\n",
    "    tf.logging.info(\"Accuracy: {}\".format(test_accuracy))"
   ]
  },
  {
   "cell_type": "code",
   "execution_count": null,
   "metadata": {
    "collapsed": true
   },
   "outputs": [],
   "source": []
  }
 ],
 "metadata": {
  "kernelspec": {
   "display_name": "Python 2",
   "language": "python",
   "name": "python2"
  },
  "language_info": {
   "codemirror_mode": {
    "name": "ipython",
    "version": 2
   },
   "file_extension": ".py",
   "mimetype": "text/x-python",
   "name": "python",
   "nbconvert_exporter": "python",
   "pygments_lexer": "ipython2",
   "version": "2.7.11"
  }
 },
 "nbformat": 4,
 "nbformat_minor": 2
}
