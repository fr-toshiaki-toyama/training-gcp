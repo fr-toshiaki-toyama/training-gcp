{
 "cells": [
  {
   "cell_type": "markdown",
   "metadata": {
    "deletable": true,
    "editable": true
   },
   "source": [
    "# Lab: tf.train.Saver"
   ]
  },
  {
   "cell_type": "code",
   "execution_count": null,
   "metadata": {
    "collapsed": false,
    "deletable": true,
    "editable": true
   },
   "outputs": [],
   "source": [
    "import os\n",
    "import numpy as np\n",
    "import tensorflow as tf\n",
    "from tensorflow.examples.tutorials.mnist import input_data\n",
    "\n",
    "print(tf.__version__)"
   ]
  },
  {
   "cell_type": "markdown",
   "metadata": {},
   "source": [
    "まずは checkpoint を保存するディレクトリを作成しましょう。"
   ]
  },
  {
   "cell_type": "code",
   "execution_count": null,
   "metadata": {
    "collapsed": true,
    "deletable": true,
    "editable": true
   },
   "outputs": [],
   "source": [
    "CHECKPOINT_DIR = \"saver_sample\"\n",
    "\n",
    "if not os.path.isdir(\"saver_sample\"):\n",
    "    os.mkdir(\"saver_sample\")"
   ]
  },
  {
   "cell_type": "markdown",
   "metadata": {},
   "source": [
    "tf.Variable にそれぞれ \"v1\", \"v2\" という名前を付けて保存します。"
   ]
  },
  {
   "cell_type": "code",
   "execution_count": null,
   "metadata": {
    "collapsed": false,
    "deletable": true,
    "editable": true
   },
   "outputs": [],
   "source": [
    "with tf.Graph().as_default() as g1:\n",
    "    v1 = tf.Variable(1., name=\"v1\")\n",
    "    v2 = tf.Variable(2., name=\"v2\")\n",
    "    init_op = tf.global_variables_initializer()\n",
    "    saver = tf.train.Saver()\n",
    "\n",
    "with tf.Session(graph=g1) as sess:\n",
    "    sess.run(init_op)\n",
    "    saver.save(sess, os.path.join(CHECKPOINT_DIR, \"sample.ckpt\"))"
   ]
  },
  {
   "cell_type": "markdown",
   "metadata": {},
   "source": [
    "`sample.ckpt` というファイルが生成されていれば無事保存されています。\n",
    "この中に `{\"v1\": 1, \"v2\": 2}` のような key/value の形式 (実際にこのような JSON で保存されているわけではありません) で名前と値が保存されていると思ってください。"
   ]
  },
  {
   "cell_type": "markdown",
   "metadata": {},
   "source": [
    "Checkpoint を読み込むときは、以下のように同じ名前の tf.Variable を作ってやれば良いです。"
   ]
  },
  {
   "cell_type": "code",
   "execution_count": null,
   "metadata": {
    "collapsed": false,
    "deletable": true,
    "editable": true
   },
   "outputs": [],
   "source": [
    "with tf.Graph().as_default() as g2:\n",
    "    v1 = tf.Variable(3., name=\"v1\")\n",
    "    v2 = tf.Variable(4., name=\"v2\")\n",
    "    init_op = tf.global_variables_initializer()\n",
    "    saver = tf.train.Saver()\n",
    "\n",
    "with tf.Session(graph=g2) as sess:\n",
    "    sess.run(init_op)\n",
    "    print(sess.run([v1, v2]))\n",
    "    saver.restore(sess, os.path.join(CHECKPOINT_DIR, \"sample.ckpt\"))\n",
    "    print(sess.run([v1, v2]))"
   ]
  },
  {
   "cell_type": "markdown",
   "metadata": {},
   "source": [
    "`saver.restore` を実行する前は `[3, 4]` という値が入っていますが、 checkpoint を読み込んだ後は保存した通り `[1, 2]` に値が更新されています。"
   ]
  }
 ],
 "metadata": {
  "kernelspec": {
   "display_name": "Python 2",
   "language": "python",
   "name": "python2"
  },
  "language_info": {
   "codemirror_mode": {
    "name": "ipython",
    "version": 2
   },
   "file_extension": ".py",
   "mimetype": "text/x-python",
   "name": "python",
   "nbconvert_exporter": "python",
   "pygments_lexer": "ipython2",
   "version": "2.7.11"
  }
 },
 "nbformat": 4,
 "nbformat_minor": 2
}
